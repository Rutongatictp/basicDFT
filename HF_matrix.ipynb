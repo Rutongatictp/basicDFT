{
 "cells": [
  {
   "cell_type": "code",
   "execution_count": 7,
   "id": "12661b20-8136-426d-b54e-ccbc2d6a2de9",
   "metadata": {},
   "outputs": [],
   "source": [
    "import numpy as np\n",
    "def S(m,n):\n",
    "    msn = m+n\n",
    "    den = (msn+1)*(msn+3)*(msn+5)\n",
    "    num = (1-(m+n)%2)*16\n",
    "    return num/den"
   ]
  },
  {
   "cell_type": "code",
   "execution_count": 10,
   "id": "bc3ece51-9e3f-4845-a676-e2e69dc5ec85",
   "metadata": {},
   "outputs": [],
   "source": [
    "def H(m,n):\n",
    "    msn = m+n \n",
    "    den = (msn+3)*(msn+1)*(msn-1)\n",
    "    num = 1-m-n-2*m*n\n",
    "    y = 0.0\n",
    "    if np.abs(den) > 0.0:\n",
    "        y = -num*8*(1-(m+n)%2)/den\n",
    "    return y"
   ]
  },
  {
   "cell_type": "code",
   "execution_count": 11,
   "id": "13915343-f70b-407e-b176-78aa9d0d0353",
   "metadata": {},
   "outputs": [],
   "source": [
    "import numpy as np\n",
    "N_basis = 5\n",
    "S_matrix = np.zeros((N_basis,N_basis))\n",
    "H_matrix = np.zeros((N_basis,N_basis))\n",
    "for i in range(N_basis):\n",
    "    for j in range(N_basis):\n",
    "        S_matrix[i,j] = S(i,j)\n",
    "        H_matrix[i,j] = H(i,j)"
   ]
  },
  {
   "cell_type": "markdown",
   "id": "d119b3ca-4346-4905-a6b6-a8ed8f7114a2",
   "metadata": {},
   "source": [
    "* build V, U, s^(-1/2) matrix"
   ]
  },
  {
   "cell_type": "code",
   "execution_count": 13,
   "id": "f2146a23-fc5e-494d-afc1-4524fee1ae83",
   "metadata": {},
   "outputs": [],
   "source": [
    "from scipy import linalg\n",
    "dig_s, U = np.linalg.eigh(S_matrix)"
   ]
  },
  {
   "cell_type": "markdown",
   "id": "9c5b9d48-4c96-4d3e-baad-e8689576e63d",
   "metadata": {},
   "source": [
    "* calculate s^(-1/2)"
   ]
  },
  {
   "cell_type": "code",
   "execution_count": 15,
   "id": "d353a337-2a43-457b-81f6-83a723b12244",
   "metadata": {},
   "outputs": [],
   "source": [
    "half_s = np.zeros((N_basis,N_basis))\n",
    "for i in range(N_basis):\n",
    "    half_s[i,i] = 1.0E0/np.sqrt(np.abs(dig_s[i]))"
   ]
  },
  {
   "cell_type": "markdown",
   "id": "95ad6d54-8c8f-4d4b-933e-42796c85443f",
   "metadata": {},
   "source": [
    "* calculation V = US^(-1/2)"
   ]
  },
  {
   "cell_type": "code",
   "execution_count": 16,
   "id": "2dc71583-3ea2-43bc-9e59-b0865fc39662",
   "metadata": {},
   "outputs": [],
   "source": [
    "V = np.dot(U, half_s)"
   ]
  },
  {
   "cell_type": "code",
   "execution_count": 18,
   "id": "85bf7707-b1bc-42ef-a4d3-8015018ac39a",
   "metadata": {},
   "outputs": [
    {
     "name": "stdout",
     "output_type": "stream",
     "text": [
      "[[ 1. -0.  0. -0.  0.]\n",
      " [-0.  1. -0.  0.  0.]\n",
      " [ 0. -0.  1. -0. -0.]\n",
      " [-0.  0. -0.  1.  0.]\n",
      " [ 0.  0. -0.  0.  1.]]\n"
     ]
    }
   ],
   "source": [
    "with np.printoptions(precision=6, suppress=True):\n",
    "    print(np.dot(np.transpose(U),U))"
   ]
  },
  {
   "cell_type": "markdown",
   "id": "16e398a5-8233-4672-acac-d953fce557dc",
   "metadata": {},
   "source": [
    "* calculation V^prime, C^prime"
   ]
  },
  {
   "cell_type": "code",
   "execution_count": 19,
   "id": "5611ccda-c5bf-416e-81ad-e0871dc19575",
   "metadata": {},
   "outputs": [],
   "source": [
    "V_dagger = np.transpose(V)\n",
    "tmp = np.dot(H_matrix,V)\n",
    "H_prime = np.dot(V_dagger,tmp)"
   ]
  },
  {
   "cell_type": "code",
   "execution_count": 20,
   "id": "f1e1e8cf-9756-4f9d-b660-dcaf301cffb0",
   "metadata": {},
   "outputs": [
    {
     "name": "stdout",
     "output_type": "stream",
     "text": [
      "     2.46740\n",
      "     9.87539\n",
      "    22.29341\n",
      "    50.12461\n",
      "    87.73919\n"
     ]
    }
   ],
   "source": [
    "EE, C_prime = np.linalg.eigh(H_prime)\n",
    "for i in range(N_basis):\n",
    "    print('{:12.5f}'.format(EE[i]))"
   ]
  },
  {
   "cell_type": "code",
   "execution_count": 24,
   "id": "16025f0e-63af-457a-b2ef-1c9cf572820b",
   "metadata": {},
   "outputs": [
    {
     "name": "stdout",
     "output_type": "stream",
     "text": [
      "[[ 9.99989758e-01  2.64123063e-18  9.62512213e-01  8.82832840e-16\n",
      "  -6.17024820e-01]\n",
      " [ 6.83584901e-16  3.07099182e+00 -1.31697105e-15 -3.89594459e+00\n",
      "  -8.88721229e-15]\n",
      " [-2.33425559e-01 -6.35016128e-16 -8.98766320e+00 -1.65182241e-14\n",
      "   1.30218207e+01]\n",
      " [-1.34619147e-15 -1.58762744e+00  2.21423343e-15  1.26452091e+01\n",
      "   2.90034661e-14]\n",
      " [ 1.89585933e-02  6.01665581e-16  5.99363128e+00  3.28285364e-14\n",
      "  -2.62659243e+01]] [[ 1.03737513e-02 -7.97904700e-17 -2.16169714e-02 -5.50141944e-17\n",
      "   2.58962886e-02]\n",
      " [-6.54608239e-17 -2.83522544e-02 -2.09463485e-17  2.06441183e-02\n",
      "   6.20966587e-18]\n",
      " [ 4.54187050e-02 -3.20044496e-17 -2.46643479e-02 -2.08075970e-17\n",
      "  -1.02199112e-02]\n",
      " [-1.28285410e-16 -3.95456212e-02 -1.91978992e-17 -4.29579613e-03\n",
      "  -2.34426047e-18]\n",
      " [ 6.15785379e-02 -4.79809701e-17 -5.92221528e-03 -2.02540792e-17\n",
      "  -3.70119876e-03]]\n"
     ]
    }
   ],
   "source": [
    "C = np.dot(V, C_prime)\n",
    "C1 = np.dot(np.linalg.inv(V_dagger),np.dot(C_prime,np.linalg.inv(V)))\n",
    "print (C, C1)"
   ]
  },
  {
   "cell_type": "markdown",
   "id": "4bb8fad9-c22a-448b-834f-4fdb309a3005",
   "metadata": {},
   "source": [
    "* construct wavefunctions"
   ]
  },
  {
   "cell_type": "code",
   "execution_count": null,
   "id": "f633da71-38a9-45a8-ae5f-9b234a3d2290",
   "metadata": {},
   "outputs": [],
   "source": [
    "interval = 0.01\n",
    "x = np.arange(-1,1+interval,interval)\n",
    "def basis_f(x,n):\n",
    "    y = x**n*(x-1)*(x+1)\n",
    "    return y\n",
    "y_tot = np.zeros((len(x),N_basis))\n",
    "for j in range(N_basis):\n",
    "    for i in range(N_basis):\n",
    "        y_tot[:,j]+=basis_f(x,i)*C(i,j)"
   ]
  }
 ],
 "metadata": {
  "kernelspec": {
   "display_name": "Anaconda3 full",
   "language": "python",
   "name": "anaconda3"
  },
  "language_info": {
   "codemirror_mode": {
    "name": "ipython",
    "version": 3
   },
   "file_extension": ".py",
   "mimetype": "text/x-python",
   "name": "python",
   "nbconvert_exporter": "python",
   "pygments_lexer": "ipython3",
   "version": "3.9.7"
  }
 },
 "nbformat": 4,
 "nbformat_minor": 5
}
